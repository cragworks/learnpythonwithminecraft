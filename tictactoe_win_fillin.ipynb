{
 "cells": [
  {
   "cell_type": "code",
   "execution_count": 2,
   "metadata": {
    "collapsed": false,
    "jupyter": {
     "outputs_hidden": false
    }
   },
   "outputs": [
    {
     "name": "stdout",
     "output_type": "stream",
     "text": [
      " 1 | 2 | 3 \n",
      " --------- \n",
      " 4 | 5 | 6 \n",
      " --------- \n",
      " 7 | 8 | 9 \n"
     ]
    }
   ],
   "source": [
    "#print a tic-tac-toe board\n",
    "#exactly like this:\n",
    "\n",
    "# 1 | 2 | 3\n",
    "# ---------\n",
    "# 4 | 5 | 6\n",
    "# ---------\n",
    "# 7 | 8 | 9\n",
    "\n",
    "print(\" 1 | 2 | 3 \")\n",
    "print(\" --------- \")\n",
    "print(\" 4 | 5 | 6 \")\n",
    "print(\" --------- \")\n",
    "print(\" 7 | 8 | 9 \")\n"
   ]
  },
  {
   "cell_type": "code",
   "execution_count": 3,
   "metadata": {},
   "outputs": [],
   "source": [
    "#make a variable (string) for each slot in the board\n",
    "#initialize with the number it represents\n",
    "\n",
    "a = \"1\"\n",
    "b = \"2\"\n",
    "c = \"3\"\n",
    "d = \"4\"\n",
    "e = \"5\"\n",
    "f = \"6\"\n",
    "g = \"7\"\n",
    "h = \"8\"\n",
    "i = \"9\""
   ]
  },
  {
   "cell_type": "code",
   "execution_count": 21,
   "metadata": {
    "collapsed": false,
    "jupyter": {
     "outputs_hidden": false
    }
   },
   "outputs": [
    {
     "name": "stdout",
     "output_type": "stream",
     "text": [
      "X | X | X\n",
      " --------- \n",
      "4 | 5 | 6\n",
      " --------- \n",
      "7 | 8 | 9\n"
     ]
    }
   ],
   "source": [
    "#print the variable onto the tic tac toe board\n",
    "\n",
    "\n",
    "print(a+\" | \"+b+\" | \"+c)\n",
    "print(\" --------- \")\n",
    "print(d+\" | \"+e+\" | \"+f)\n",
    "print(\" --------- \")\n",
    "print(g+\" | \"+h+\" | \"+i)\n",
    "\n",
    "\n"
   ]
  },
  {
   "cell_type": "code",
   "execution_count": 18,
   "metadata": {
    "collapsed": false,
    "jupyter": {
     "outputs_hidden": false
    }
   },
   "outputs": [
    {
     "name": "stdout",
     "output_type": "stream",
     "text": [
      "which spot do you wanna place, a=1 b=2 etc\n"
     ]
    },
    {
     "name": "stdin",
     "output_type": "stream",
     "text": [
      " 3\n"
     ]
    }
   ],
   "source": [
    "#get input to insert an \"x\" into the tic tac toe board\n",
    "print(\"which spot do you wanna place, a=1 b=2 etc\")\n",
    "spot = input()\n",
    "if spot == a:\n",
    "    a = \"X\"\n",
    "if spot == b:\n",
    "    b = \"X\"\n",
    "if spot == c:\n",
    "    c = \"X\"\n",
    "if spot == d:\n",
    "    d = \"X\"\n",
    "if spot == e:\n",
    "    \n",
    "    e = \"X\"\n",
    "if spot == f:\n",
    "    f = \"X\"\n",
    "if spot == g:\n",
    "    g = \"X\"\n",
    "if spot == h:\n",
    "    h = \"X\"\n",
    "if spot == i:\n",
    "    i = \"X\""
   ]
  },
  {
   "cell_type": "code",
   "execution_count": 8,
   "metadata": {},
   "outputs": [
    {
     "name": "stdout",
     "output_type": "stream",
     "text": [
      "which spot do you wanna place, a=1 b=2 etc\n"
     ]
    },
    {
     "name": "stdin",
     "output_type": "stream",
     "text": [
      " 4\n"
     ]
    }
   ],
   "source": [
    "# get input to insert an \"o\" into the tic tac toe board\n",
    "\n",
    "print(\"which spot do you wanna place, a=1 b=2 etc\")\n",
    "spot = input()\n",
    "if spot == a:\n",
    "    a = \"O\"\n",
    "if spot == b:\n",
    "    b = \"O\"\n",
    "if spot == c:\n",
    "    c = \"O\"\n",
    "if spot == d:\n",
    "    d = \"O\"\n",
    "if spot == e:\n",
    "    e = \"O\"\n",
    "if spot == f:\n",
    "    f = \"O\"\n",
    "if spot == g:\n",
    "    g = \"O\"\n",
    "if spot == h:\n",
    "    h = \"O\"\n",
    "if spot == i:\n",
    "    i = \"O\""
   ]
  },
  {
   "cell_type": "code",
   "execution_count": 1,
   "metadata": {
    "collapsed": true,
    "jupyter": {
     "outputs_hidden": true,
     "source_hidden": true
    }
   },
   "outputs": [
    {
     "name": "stdout",
     "output_type": "stream",
     "text": [
      "1 | 2 | 3\n",
      " --------- \n",
      "4 | 5 | 6\n",
      " --------- \n",
      "7 | 8 | 9\n",
      "which spot do you wanna place, a=1 b=2 etc\n"
     ]
    },
    {
     "name": "stdin",
     "output_type": "stream",
     "text": [
      " 1\n"
     ]
    },
    {
     "name": "stdout",
     "output_type": "stream",
     "text": [
      "X | 2 | 3\n",
      " --------- \n",
      "4 | 5 | 6\n",
      " --------- \n",
      "7 | 8 | 9\n",
      "which spot do you wanna place, a=1 b=2 etc\n"
     ]
    },
    {
     "name": "stdin",
     "output_type": "stream",
     "text": [
      " 2\n"
     ]
    },
    {
     "name": "stdout",
     "output_type": "stream",
     "text": [
      "X | O | 3\n",
      " --------- \n",
      "4 | 5 | 6\n",
      " --------- \n",
      "7 | 8 | 9\n",
      "which spot do you wanna place, a=1 b=2 etc\n"
     ]
    },
    {
     "name": "stdin",
     "output_type": "stream",
     "text": [
      " 4\n"
     ]
    },
    {
     "name": "stdout",
     "output_type": "stream",
     "text": [
      "X | O | 3\n",
      " --------- \n",
      "X | 5 | 6\n",
      " --------- \n",
      "7 | 8 | 9\n",
      "which spot do you wanna place, a=1 b=2 etc\n"
     ]
    },
    {
     "name": "stdin",
     "output_type": "stream",
     "text": [
      " 5\n"
     ]
    },
    {
     "name": "stdout",
     "output_type": "stream",
     "text": [
      "X | O | 3\n",
      " --------- \n",
      "X | O | 6\n",
      " --------- \n",
      "7 | 8 | 9\n",
      "which spot do you wanna place, a=1 b=2 etc\n"
     ]
    },
    {
     "name": "stdin",
     "output_type": "stream",
     "text": [
      " 6\n"
     ]
    },
    {
     "name": "stdout",
     "output_type": "stream",
     "text": [
      "X | O | 3\n",
      " --------- \n",
      "X | O | X\n",
      " --------- \n",
      "7 | 8 | 9\n",
      "which spot do you wanna place, a=1 b=2 etc\n"
     ]
    },
    {
     "name": "stdin",
     "output_type": "stream",
     "text": [
      " 7\n"
     ]
    },
    {
     "name": "stdout",
     "output_type": "stream",
     "text": [
      "X | O | 3\n",
      " --------- \n",
      "X | O | X\n",
      " --------- \n",
      "O | 8 | 9\n",
      "which spot do you wanna place, a=1 b=2 etc\n"
     ]
    },
    {
     "name": "stdin",
     "output_type": "stream",
     "text": [
      " 8\n"
     ]
    },
    {
     "name": "stdout",
     "output_type": "stream",
     "text": [
      "X | O | 3\n",
      " --------- \n",
      "X | O | X\n",
      " --------- \n",
      "O | X | 9\n",
      "which spot do you wanna place, a=1 b=2 etc\n"
     ]
    },
    {
     "name": "stdin",
     "output_type": "stream",
     "text": [
      " 9\n"
     ]
    },
    {
     "name": "stdout",
     "output_type": "stream",
     "text": [
      "X | O | 3\n",
      " --------- \n",
      "X | O | X\n",
      " --------- \n",
      "O | X | O\n",
      "which spot do you wanna place, a=1 b=2 etc\n"
     ]
    },
    {
     "name": "stdin",
     "output_type": "stream",
     "text": [
      " 3\n"
     ]
    },
    {
     "name": "stdout",
     "output_type": "stream",
     "text": [
      "X | O | X\n",
      " --------- \n",
      "X | O | X\n",
      " --------- \n",
      "O | X | O\n"
     ]
    }
   ],
   "source": [
    "#put the above code togethert an \"o\" into the tic tac toe board\n",
    "a = \"1\"\n",
    "b = \"2\"\n",
    "c = \"3\"\n",
    "d = \"4\"\n",
    "e = \"5\"\n",
    "f = \"6\"\n",
    "g = \"7\"\n",
    "h = \"8\"\n",
    "i = \"9\"\n",
    "\n",
    "print(a+\" | \"+b+\" | \"+c)\n",
    "print(\" --------- \")\n",
    "print(d+\" | \"+e+\" | \"+f)\n",
    "print(\" --------- \")\n",
    "print(g+\" | \"+h+\" | \"+i)\n",
    "\n",
    "print(\"which spot do you wanna place, a=1 b=2 etc\")\n",
    "spot = input()\n",
    "if spot == a:\n",
    "    a = \"X\"\n",
    "if spot == b:\n",
    "    b = \"X\"\n",
    "if spot == c:\n",
    "    c = \"X\"\n",
    "if spot == d:\n",
    "    d = \"X\"\n",
    "if spot == e:\n",
    "    \n",
    "    e = \"X\"\n",
    "if spot == f:\n",
    "    f = \"X\"\n",
    "if spot == g:\n",
    "    g = \"X\"\n",
    "if spot == h:\n",
    "    h = \"X\"\n",
    "if spot == i:\n",
    "    i = \"X\"\n",
    "\n",
    "\n",
    "print(a+\" | \"+b+\" | \"+c)\n",
    "print(\" --------- \")\n",
    "print(d+\" | \"+e+\" | \"+f)\n",
    "print(\" --------- \")\n",
    "print(g+\" | \"+h+\" | \"+i)\n",
    "\n",
    "\n",
    "print(\"which spot do you wanna place, a=1 b=2 etc\")\n",
    "spot = input()\n",
    "if spot == a:\n",
    "    a = \"O\"\n",
    "if spot == b:\n",
    "    b = \"O\"\n",
    "if spot == c:\n",
    "    c = \"O\"\n",
    "if spot == d:\n",
    "    d = \"O\"\n",
    "if spot == e:\n",
    "    e = \"O\"\n",
    "if spot == f:\n",
    "    f = \"O\"\n",
    "if spot == g:\n",
    "    g = \"O\"\n",
    "if spot == h:\n",
    "    h = \"O\"\n",
    "if spot == i:\n",
    "    i = \"O\"\n",
    "    \n",
    "\n",
    "print(a+\" | \"+b+\" | \"+c)\n",
    "print(\" --------- \")\n",
    "print(d+\" | \"+e+\" | \"+f)\n",
    "print(\" --------- \")\n",
    "print(g+\" | \"+h+\" | \"+i)\n",
    "\n",
    "\n",
    "\n",
    "\n",
    "\n",
    "print(\"which spot do you wanna place, a=1 b=2 etc\")\n",
    "spot = input()\n",
    "if spot == a:\n",
    "    a = \"X\"\n",
    "if spot == b:\n",
    "    b = \"X\"\n",
    "if spot == c:\n",
    "    c = \"X\"\n",
    "if spot == d:\n",
    "    d = \"X\"\n",
    "if spot == e:\n",
    "    \n",
    "    e = \"X\"\n",
    "if spot == f:\n",
    "    f = \"X\"\n",
    "if spot == g:\n",
    "    g = \"X\"\n",
    "if spot == h:\n",
    "    h = \"X\"\n",
    "if spot == i:\n",
    "    i = \"X\"\n",
    "print(a+\" | \"+b+\" | \"+c)\n",
    "print(\" --------- \")\n",
    "print(d+\" | \"+e+\" | \"+f)\n",
    "print(\" --------- \")\n",
    "print(g+\" | \"+h+\" | \"+i)\n",
    "    \n",
    "print(\"which spot do you wanna place, a=1 b=2 etc\")\n",
    "spot = input()\n",
    "if spot == a:\n",
    "    a = \"O\"\n",
    "if spot == b:\n",
    "    b = \"O\"\n",
    "if spot == c:\n",
    "    c = \"O\"\n",
    "if spot == d:\n",
    "    d = \"O\"\n",
    "if spot == e:\n",
    "    e = \"O\"\n",
    "if spot == f:\n",
    "    f = \"O\"\n",
    "if spot == g:\n",
    "    g = \"O\"\n",
    "if spot == h:\n",
    "    h = \"O\"\n",
    "if spot == i:\n",
    "    i = \"O\"\n",
    "    \n",
    "print(a+\" | \"+b+\" | \"+c)\n",
    "print(\" --------- \")\n",
    "print(d+\" | \"+e+\" | \"+f)\n",
    "print(\" --------- \")\n",
    "print(g+\" | \"+h+\" | \"+i)\n",
    "\n",
    "\n",
    "\n",
    "print(\"which spot do you wanna place, a=1 b=2 etc\")\n",
    "spot = input()\n",
    "if spot == a:\n",
    "    a = \"X\"\n",
    "if spot == b:\n",
    "    b = \"X\"\n",
    "if spot == c:\n",
    "    c = \"X\"\n",
    "if spot == d:\n",
    "    d = \"X\"\n",
    "if spot == e:\n",
    "    \n",
    "    e = \"X\"\n",
    "if spot == f:\n",
    "    f = \"X\"\n",
    "if spot == g:\n",
    "    g = \"X\"\n",
    "if spot == h:\n",
    "    h = \"X\"\n",
    "if spot == i:\n",
    "    i = \"X\"\n",
    "\n",
    "print(a+\" | \"+b+\" | \"+c)\n",
    "print(\" --------- \")\n",
    "print(d+\" | \"+e+\" | \"+f)\n",
    "print(\" --------- \")\n",
    "print(g+\" | \"+h+\" | \"+i)\n",
    "\n",
    "print(\"which spot do you wanna place, a=1 b=2 etc\")\n",
    "spot = input()\n",
    "if spot == a:\n",
    "    a = \"O\"\n",
    "if spot == b:\n",
    "    b = \"O\"\n",
    "if spot == c:\n",
    "    c = \"O\"\n",
    "if spot == d:\n",
    "    d = \"O\"\n",
    "if spot == e:\n",
    "    e = \"O\"\n",
    "if spot == f:\n",
    "    f = \"O\"\n",
    "if spot == g:\n",
    "    g = \"O\"\n",
    "if spot == h:\n",
    "    h = \"O\"\n",
    "if spot == i:\n",
    "    i = \"O\"\n",
    "    \n",
    "\n",
    "\n",
    "print(a+\" | \"+b+\" | \"+c)\n",
    "print(\" --------- \")\n",
    "print(d+\" | \"+e+\" | \"+f)\n",
    "print(\" --------- \")\n",
    "print(g+\" | \"+h+\" | \"+i)\n",
    "\n",
    "print(\"which spot do you wanna place, a=1 b=2 etc\")\n",
    "spot = input()\n",
    "if spot == a:\n",
    "    a = \"X\"\n",
    "if spot == b:\n",
    "    b = \"X\"\n",
    "if spot == c:\n",
    "    c = \"X\"\n",
    "if spot == d:\n",
    "    d = \"X\"\n",
    "if spot == e:\n",
    "    \n",
    "    e = \"X\"\n",
    "if spot == f:\n",
    "    f = \"X\"\n",
    "if spot == g:\n",
    "    g = \"X\"\n",
    "if spot == h:\n",
    "    h = \"X\"\n",
    "if spot == i:\n",
    "    i = \"X\"\n",
    "print(a+\" | \"+b+\" | \"+c)\n",
    "print(\" --------- \")\n",
    "print(d+\" | \"+e+\" | \"+f)\n",
    "print(\" --------- \")\n",
    "print(g+\" | \"+h+\" | \"+i)\n",
    "    \n",
    "print(\"which spot do you wanna place, a=1 b=2 etc\")\n",
    "spot = input()\n",
    "if spot == a:\n",
    "    a = \"O\"\n",
    "if spot == b:\n",
    "    b = \"O\"\n",
    "if spot == c:\n",
    "    c = \"O\"\n",
    "if spot == d:\n",
    "    d = \"O\"\n",
    "if spot == e:\n",
    "    e = \"O\"\n",
    "if spot == f:\n",
    "    f = \"O\"\n",
    "if spot == g:\n",
    "    g = \"O\"\n",
    "if spot == h:\n",
    "    h = \"O\"\n",
    "if spot == i:\n",
    "    i = \"O\"\n",
    "    \n",
    "\n",
    "\n",
    "print(a+\" | \"+b+\" | \"+c)\n",
    "print(\" --------- \")\n",
    "print(d+\" | \"+e+\" | \"+f)\n",
    "print(\" --------- \")\n",
    "print(g+\" | \"+h+\" | \"+i)\n",
    "\n",
    "\n",
    "print(\"which spot do you wanna place, a=1 b=2 etc\")\n",
    "spot = input()\n",
    "if spot == a:\n",
    "    a = \"X\"\n",
    "if spot == b:\n",
    "    b = \"X\"\n",
    "if spot == c:\n",
    "    c = \"X\"\n",
    "if spot == d:\n",
    "    d = \"X\"\n",
    "if spot == e:\n",
    "    \n",
    "    e = \"X\"\n",
    "if spot == f:\n",
    "    f = \"X\"\n",
    "if spot == g:\n",
    "    g = \"X\"\n",
    "if spot == h:\n",
    "    h = \"X\"\n",
    "if spot == i:\n",
    "    i = \"X\"\n",
    "print(a+\" | \"+b+\" | \"+c)\n",
    "print(\" --------- \")\n",
    "print(d+\" | \"+e+\" | \"+f)\n",
    "print(\" --------- \")\n",
    "print(g+\" | \"+h+\" | \"+i)\n",
    "    \n",
    "\n",
    "\n"
   ]
  },
  {
   "cell_type": "code",
   "execution_count": 1,
   "metadata": {},
   "outputs": [
    {
     "ename": "NameError",
     "evalue": "name 'a' is not defined",
     "output_type": "error",
     "traceback": [
      "\u001b[0;31m---------------------------------------------------------------------------\u001b[0m",
      "\u001b[0;31mNameError\u001b[0m                                 Traceback (most recent call last)",
      "\u001b[0;32m<ipython-input-1-b6a86c67fe45>\u001b[0m in \u001b[0;36m<module>\u001b[0;34m\u001b[0m\n\u001b[1;32m      7\u001b[0m \u001b[0;31m#check for winning 3 in a row ()\u001b[0m\u001b[0;34m\u001b[0m\u001b[0;34m\u001b[0m\u001b[0;34m\u001b[0m\u001b[0m\n\u001b[1;32m      8\u001b[0m \u001b[0;31m#check horizontals (a b c, d e f, or g h i are the same (all x's or all o's))\u001b[0m\u001b[0;34m\u001b[0m\u001b[0;34m\u001b[0m\u001b[0;34m\u001b[0m\u001b[0m\n\u001b[0;32m----> 9\u001b[0;31m \u001b[0;32mif\u001b[0m \u001b[0ma\u001b[0m\u001b[0;34m==\u001b[0m\u001b[0mb\u001b[0m\u001b[0;34m==\u001b[0m\u001b[0mc\u001b[0m\u001b[0;34m:\u001b[0m\u001b[0;34m\u001b[0m\u001b[0;34m\u001b[0m\u001b[0m\n\u001b[0m\u001b[1;32m     10\u001b[0m     \u001b[0mprint\u001b[0m\u001b[0;34m(\u001b[0m\u001b[0ma\u001b[0m\u001b[0;34m+\u001b[0m\u001b[0;34m\" WINS\"\u001b[0m\u001b[0;34m)\u001b[0m\u001b[0;34m\u001b[0m\u001b[0;34m\u001b[0m\u001b[0m\n\u001b[1;32m     11\u001b[0m \u001b[0;31m#check verticals (a d g, b e h, c f i are all the same)\u001b[0m\u001b[0;34m\u001b[0m\u001b[0;34m\u001b[0m\u001b[0;34m\u001b[0m\u001b[0m\n",
      "\u001b[0;31mNameError\u001b[0m: name 'a' is not defined"
     ]
    }
   ],
   "source": [
    "# a | b | c \n",
    "# --------- \n",
    "# d | e | f \n",
    "# --------- \n",
    "# g | h | i \n",
    "\n",
    "#check for winning 3 in a row ()\n",
    "#check horizontals (a b c, d e f, or g h i are the same (all x's or all o's))\n",
    "if a==b==c:\n",
    "    print(a+\" WINS\")\n",
    "#check verticals (a d g, b e h, c f i are all the same)\n",
    "\n",
    "#check diagonals (a e i, or c e g are all the same)\n",
    "\n",
    "\n"
   ]
  },
  {
   "cell_type": "code",
   "execution_count": null,
   "metadata": {},
   "outputs": [],
   "source": []
  }
 ],
 "metadata": {
  "anaconda-cloud": {},
  "kernelspec": {
   "display_name": "Python 3",
   "language": "python",
   "name": "python3"
  },
  "language_info": {
   "codemirror_mode": {
    "name": "ipython",
    "version": 3
   },
   "file_extension": ".py",
   "mimetype": "text/x-python",
   "name": "python",
   "nbconvert_exporter": "python",
   "pygments_lexer": "ipython3",
   "version": "3.7.6"
  }
 },
 "nbformat": 4,
 "nbformat_minor": 4
}
