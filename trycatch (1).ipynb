{
 "cells": [
  {
   "cell_type": "code",
   "execution_count": 10,
   "metadata": {},
   "outputs": [
    {
     "name": "stdin",
     "output_type": "stream",
     "text": [
      "Enter a number!  4\n"
     ]
    }
   ],
   "source": [
    "try:\n",
    "    num = int(input(\"Enter a number! \"))\n",
    "except:\n",
    "    print(\"YOU DID NOT ENTER A NUMBER!\")"
   ]
  },
  {
   "cell_type": "code",
   "execution_count": 7,
   "metadata": {},
   "outputs": [
    {
     "ename": "IndentationError",
     "evalue": "expected an indented block (<ipython-input-7-d9a8c567caa8>, line 9)",
     "output_type": "error",
     "traceback": [
      "\u001b[0;36m  File \u001b[0;32m\"<ipython-input-7-d9a8c567caa8>\"\u001b[0;36m, line \u001b[0;32m9\u001b[0m\n\u001b[0;31m    except:\u001b[0m\n\u001b[0m         ^\u001b[0m\n\u001b[0;31mIndentationError\u001b[0m\u001b[0;31m:\u001b[0m expected an indented block\n"
     ]
    }
   ],
   "source": [
    "#make a boolean variable to store if there was an error (initilialized with False)\n",
    "    \n",
    "try:\n",
    "    #Ask the user to enter their credit card type\n",
    "    #ask for their credit card no\n",
    "    #ask for their name\n",
    "    #ask for the expiry date\n",
    "    #ask for the 3 digit security code\n",
    "except:\n",
    "    #make error boolean variable True\n",
    "\n",
    "#if the error boolean is true\n",
    "    #print could not process payment cause error\n",
    "#else\n",
    "    #print the payment was processed!\n",
    "    \n",
    "print(\"Please complete the payment form for your $299 Xbox Series S \\n\")\n",
    "hasError = False\n",
    "\n",
    "try:\n",
    "    cardType = input(\"VISA, MASTERCARD, UCB, AMERICAN EXPRESS?: \")\n",
    "    creditCardNo = int(input(\"Enter your credit card number: \"))\n",
    "    name = input(\"Enter your name: \")\n",
    "    expiryDate = input(\"Enter the expiry date: \")\n",
    "    threeDigits = int(input(\"Enter the security code (3 digits on the back): \"))\n",
    "except:\n",
    "    hasError = True\n",
    "    \n",
    "if hasError:\n",
    "    print(\"Could not process payment because of error\")\n",
    "else:\n",
    "    print(\"\\nThank you! Your payment has been processed\")"
   ]
  },
  {
   "cell_type": "code",
   "execution_count": null,
   "metadata": {},
   "outputs": [],
   "source": []
  }
 ],
 "metadata": {
  "kernelspec": {
   "display_name": "Python 3",
   "language": "python",
   "name": "python3"
  },
  "language_info": {
   "codemirror_mode": {
    "name": "ipython",
    "version": 3
   },
   "file_extension": ".py",
   "mimetype": "text/x-python",
   "name": "python",
   "nbconvert_exporter": "python",
   "pygments_lexer": "ipython3",
   "version": "3.7.8"
  }
 },
 "nbformat": 4,
 "nbformat_minor": 4
}
