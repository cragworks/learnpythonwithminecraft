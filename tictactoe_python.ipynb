{
 "cells": [
  {
   "cell_type": "code",
   "execution_count": 3,
   "metadata": {},
   "outputs": [
    {
     "name": "stdout",
     "output_type": "stream",
     "text": [
      "1 | 2 | 3\n",
      "---------\n",
      "4 | 5 | 6\n",
      "---------\n",
      "7 | 8 | 9\n"
     ]
    }
   ],
   "source": [
    "#print a tic-tac-toe board\n",
    "#exactly like this:\n",
    "\n",
    "# 1 | 2 | 3\n",
    "# ---------\n",
    "# 4 | 5 | 6\n",
    "# ---------\n",
    "# 7 | 8 | 9\n",
    "\n",
    "print(\"1 | 2 | 3\")\n",
    "print(\"---------\")\n",
    "print(\"4 | 5 | 6\")\n",
    "print(\"---------\")\n",
    "print(\"7 | 8 | 9\")"
   ]
  },
  {
   "cell_type": "code",
   "execution_count": 3,
   "metadata": {},
   "outputs": [],
   "source": [
    "#make a variable (string) for each slot in the board\n",
    "#initialize with the number it represents\n",
    "\n",
    "a = \"1\"\n",
    "b = \"2\"\n",
    "c = \"3\"\n",
    "\n",
    "d = \"4\"\n",
    "e = \"5\"\n",
    "f = \"6\"\n",
    "\n",
    "g = \"7\"\n",
    "h = \"8\"\n",
    "i = \"9\""
   ]
  },
  {
   "cell_type": "code",
   "execution_count": 10,
   "metadata": {},
   "outputs": [
    {
     "name": "stdout",
     "output_type": "stream",
     "text": [
      "x | o | x\n",
      "---------\n",
      "4 | 5 | 6\n",
      "---------\n",
      "7 | 8 | 9\n"
     ]
    }
   ],
   "source": [
    "#print the variable onto the tic tac toe board\n",
    "\n",
    "print(a+\" | \"+b+\" | \"+c)\n",
    "print(\"---------\")\n",
    "print(d+\" | \"+e+\" | \"+f)\n",
    "print(\"---------\")\n",
    "print(g+\" | \"+h+\" | \"+i)"
   ]
  },
  {
   "cell_type": "code",
   "execution_count": 11,
   "metadata": {},
   "outputs": [
    {
     "name": "stdin",
     "output_type": "stream",
     "text": [
      "Which slot to insert x? (1 2 3 4 5 6 7 8 9): 3\n"
     ]
    },
    {
     "name": "stdout",
     "output_type": "stream",
     "text": [
      "x | o | x\n",
      "---------\n",
      "4 | 5 | 6\n",
      "---------\n",
      "7 | 8 | 9\n"
     ]
    }
   ],
   "source": [
    "#get input to insert an \"x\" into the tic tac toe board\n",
    "num = int(input(\"Which slot to insert x? (1 2 3 4 5 6 7 8 9):\"))\n",
    "\n",
    "if num == 1:\n",
    "    a = 'x'\n",
    "elif num == 2:\n",
    "    b = 'x'\n",
    "elif num == 3:\n",
    "    c = 'x'\n",
    "elif num == 4:\n",
    "    d = 'x'\n",
    "elif num == 5:\n",
    "    e = 'x'\n",
    "elif num == 6:\n",
    "    f = 'x'\n",
    "elif num == 7:\n",
    "    g = 'x'\n",
    "elif num == 8:\n",
    "    h = 'x'\n",
    "elif num == 9:\n",
    "    i = 'x'"
   ]
  },
  {
   "cell_type": "code",
   "execution_count": 12,
   "metadata": {},
   "outputs": [
    {
     "name": "stdin",
     "output_type": "stream",
     "text": [
      "Which slot to insert o? (1 2 3 4 5 6 7 8 9): 4\n"
     ]
    },
    {
     "name": "stdout",
     "output_type": "stream",
     "text": [
      "x | o | x\n",
      "---------\n",
      "o | 5 | 6\n",
      "---------\n",
      "7 | 8 | 9\n"
     ]
    }
   ],
   "source": [
    "#get input to insert an \"o\" into the tic tac toe board\n",
    "num = int(input(\"Which slot to insert o? (1 2 3 4 5 6 7 8 9):\"))\n",
    "\n",
    "if num == 1:\n",
    "    a = 'o'\n",
    "elif num == 2:\n",
    "    b = 'o'\n",
    "elif num == 3:\n",
    "    c = 'o'\n",
    "elif num == 4:\n",
    "    d = 'o'\n",
    "elif num == 5:\n",
    "    e = 'o'\n",
    "elif num == 6:\n",
    "    f = 'o'\n",
    "elif num == 7:\n",
    "    g = 'o'\n",
    "elif num == 8:\n",
    "    h = 'o'\n",
    "elif num == 9:\n",
    "    i = 'o'"
   ]
  },
  {
   "cell_type": "code",
   "execution_count": 1,
   "metadata": {},
   "outputs": [
    {
     "name": "stdout",
     "output_type": "stream",
     "text": [
      "1 | 2 | 3\n",
      "---------\n",
      "4 | 5 | 6\n",
      "---------\n",
      "7 | 8 | 9\n"
     ]
    },
    {
     "name": "stdin",
     "output_type": "stream",
     "text": [
      "Which slot to insert x? (1 2 3 4 5 6 7 8 9): 5\n"
     ]
    },
    {
     "name": "stdout",
     "output_type": "stream",
     "text": [
      "1 | 2 | 3\n",
      "---------\n",
      "4 | x | 6\n",
      "---------\n",
      "7 | 8 | 9\n"
     ]
    },
    {
     "name": "stdin",
     "output_type": "stream",
     "text": [
      "Which slot to insert o? (1 2 3 4 5 6 7 8 9): 1\n"
     ]
    },
    {
     "name": "stdout",
     "output_type": "stream",
     "text": [
      "o | 2 | 3\n",
      "---------\n",
      "4 | x | 6\n",
      "---------\n",
      "7 | 8 | 9\n"
     ]
    },
    {
     "name": "stdin",
     "output_type": "stream",
     "text": [
      "Which slot to insert x? (1 2 3 4 5 6 7 8 9): 6\n"
     ]
    },
    {
     "name": "stdout",
     "output_type": "stream",
     "text": [
      "o | 2 | 3\n",
      "---------\n",
      "4 | x | x\n",
      "---------\n",
      "7 | 8 | 9\n"
     ]
    },
    {
     "name": "stdin",
     "output_type": "stream",
     "text": [
      "Which slot to insert o? (1 2 3 4 5 6 7 8 9): 2\n"
     ]
    },
    {
     "name": "stdout",
     "output_type": "stream",
     "text": [
      "o | o | 3\n",
      "---------\n",
      "4 | x | x\n",
      "---------\n",
      "7 | 8 | 9\n"
     ]
    },
    {
     "name": "stdin",
     "output_type": "stream",
     "text": [
      "Which slot to insert x? (1 2 3 4 5 6 7 8 9): 4\n"
     ]
    },
    {
     "name": "stdout",
     "output_type": "stream",
     "text": [
      "o | o | 3\n",
      "---------\n",
      "x | x | x\n",
      "---------\n",
      "7 | 8 | 9\n"
     ]
    },
    {
     "name": "stdin",
     "output_type": "stream",
     "text": [
      "Which slot to insert o? (1 2 3 4 5 6 7 8 9): 3\n"
     ]
    },
    {
     "name": "stdout",
     "output_type": "stream",
     "text": [
      "o | o | o\n",
      "---------\n",
      "x | x | x\n",
      "---------\n",
      "7 | 8 | 9\n"
     ]
    },
    {
     "name": "stdin",
     "output_type": "stream",
     "text": [
      "Which slot to insert x? (1 2 3 4 5 6 7 8 9): 7\n"
     ]
    },
    {
     "name": "stdout",
     "output_type": "stream",
     "text": [
      "o | o | o\n",
      "---------\n",
      "x | x | x\n",
      "---------\n",
      "x | 8 | 9\n"
     ]
    },
    {
     "name": "stdin",
     "output_type": "stream",
     "text": [
      "Which slot to insert o? (1 2 3 4 5 6 7 8 9): 8\n"
     ]
    },
    {
     "name": "stdout",
     "output_type": "stream",
     "text": [
      "o | o | o\n",
      "---------\n",
      "x | x | x\n",
      "---------\n",
      "x | o | 9\n"
     ]
    },
    {
     "name": "stdin",
     "output_type": "stream",
     "text": [
      "Which slot to insert x? (1 2 3 4 5 6 7 8 9): 9\n"
     ]
    },
    {
     "name": "stdout",
     "output_type": "stream",
     "text": [
      "o | o | o\n",
      "---------\n",
      "x | x | x\n",
      "---------\n",
      "x | o | x\n"
     ]
    }
   ],
   "source": [
    "#put the above code together\n",
    "\n",
    "#make a variable (string) for each slot in the board\n",
    "#initialize with the number it represents\n",
    "\n",
    "a = \"1\"\n",
    "b = \"2\"\n",
    "c = \"3\"\n",
    "\n",
    "d = \"4\"\n",
    "e = \"5\"\n",
    "f = \"6\"\n",
    "\n",
    "g = \"7\"\n",
    "h = \"8\"\n",
    "i = \"9\"\n",
    "\n",
    "print(a+\" | \"+b+\" | \"+c)\n",
    "print(\"---------\")\n",
    "print(d+\" | \"+e+\" | \"+f)\n",
    "print(\"---------\")\n",
    "print(g+\" | \"+h+\" | \"+i)\n",
    "\n",
    "#get input to insert an \"x\" into the tic tac toe board\n",
    "num = int(input(\"Which slot to insert x? (1 2 3 4 5 6 7 8 9):\"))\n",
    "\n",
    "if num == 1:\n",
    "    a = 'x'\n",
    "elif num == 2:\n",
    "    b = 'x'\n",
    "elif num == 3:\n",
    "    c = 'x'\n",
    "elif num == 4:\n",
    "    d = 'x'\n",
    "elif num == 5:\n",
    "    e = 'x'\n",
    "elif num == 6:\n",
    "    f = 'x'\n",
    "elif num == 7:\n",
    "    g = 'x'\n",
    "elif num == 8:\n",
    "    h = 'x'\n",
    "elif num == 9:\n",
    "    i = 'x'\n",
    "\n",
    "print(a+\" | \"+b+\" | \"+c)\n",
    "print(\"---------\")\n",
    "print(d+\" | \"+e+\" | \"+f)\n",
    "print(\"---------\")\n",
    "print(g+\" | \"+h+\" | \"+i)\n",
    "\n",
    "#get input to insert an \"o\" into the tic tac toe board\n",
    "num = int(input(\"Which slot to insert o? (1 2 3 4 5 6 7 8 9):\"))\n",
    "\n",
    "if num == 1:\n",
    "    a = 'o'\n",
    "elif num == 2:\n",
    "    b = 'o'\n",
    "elif num == 3:\n",
    "    c = 'o'\n",
    "elif num == 4:\n",
    "    d = 'o'\n",
    "elif num == 5:\n",
    "    e = 'o'\n",
    "elif num == 6:\n",
    "    f = 'o'\n",
    "elif num == 7:\n",
    "    g = 'o'\n",
    "elif num == 8:\n",
    "    h = 'o'\n",
    "elif num == 9:\n",
    "    i = 'o'\n",
    "\n",
    "print(a+\" | \"+b+\" | \"+c)\n",
    "print(\"---------\")\n",
    "print(d+\" | \"+e+\" | \"+f)\n",
    "print(\"---------\")\n",
    "print(g+\" | \"+h+\" | \"+i)\n",
    "\n",
    "#get input to insert an \"x\" into the tic tac toe board\n",
    "num = int(input(\"Which slot to insert x? (1 2 3 4 5 6 7 8 9):\"))\n",
    "\n",
    "if num == 1:\n",
    "    a = 'x'\n",
    "elif num == 2:\n",
    "    b = 'x'\n",
    "elif num == 3:\n",
    "    c = 'x'\n",
    "elif num == 4:\n",
    "    d = 'x'\n",
    "elif num == 5:\n",
    "    e = 'x'\n",
    "elif num == 6:\n",
    "    f = 'x'\n",
    "elif num == 7:\n",
    "    g = 'x'\n",
    "elif num == 8:\n",
    "    h = 'x'\n",
    "elif num == 9:\n",
    "    i = 'x'\n",
    "\n",
    "print(a+\" | \"+b+\" | \"+c)\n",
    "print(\"---------\")\n",
    "print(d+\" | \"+e+\" | \"+f)\n",
    "print(\"---------\")\n",
    "print(g+\" | \"+h+\" | \"+i)\n",
    "\n",
    "#get input to insert an \"o\" into the tic tac toe board\n",
    "num = int(input(\"Which slot to insert o? (1 2 3 4 5 6 7 8 9):\"))\n",
    "\n",
    "if num == 1:\n",
    "    a = 'o'\n",
    "elif num == 2:\n",
    "    b = 'o'\n",
    "elif num == 3:\n",
    "    c = 'o'\n",
    "elif num == 4:\n",
    "    d = 'o'\n",
    "elif num == 5:\n",
    "    e = 'o'\n",
    "elif num == 6:\n",
    "    f = 'o'\n",
    "elif num == 7:\n",
    "    g = 'o'\n",
    "elif num == 8:\n",
    "    h = 'o'\n",
    "elif num == 9:\n",
    "    i = 'o'\n",
    "\n",
    "print(a+\" | \"+b+\" | \"+c)\n",
    "print(\"---------\")\n",
    "print(d+\" | \"+e+\" | \"+f)\n",
    "print(\"---------\")\n",
    "print(g+\" | \"+h+\" | \"+i)\n",
    "\n",
    "#get input to insert an \"x\" into the tic tac toe board\n",
    "num = int(input(\"Which slot to insert x? (1 2 3 4 5 6 7 8 9):\"))\n",
    "\n",
    "if num == 1:\n",
    "    a = 'x'\n",
    "elif num == 2:\n",
    "    b = 'x'\n",
    "elif num == 3:\n",
    "    c = 'x'\n",
    "elif num == 4:\n",
    "    d = 'x'\n",
    "elif num == 5:\n",
    "    e = 'x'\n",
    "elif num == 6:\n",
    "    f = 'x'\n",
    "elif num == 7:\n",
    "    g = 'x'\n",
    "elif num == 8:\n",
    "    h = 'x'\n",
    "elif num == 9:\n",
    "    i = 'x'\n",
    "\n",
    "print(a+\" | \"+b+\" | \"+c)\n",
    "print(\"---------\")\n",
    "print(d+\" | \"+e+\" | \"+f)\n",
    "print(\"---------\")\n",
    "print(g+\" | \"+h+\" | \"+i)\n",
    "\n",
    "#get input to insert an \"o\" into the tic tac toe board\n",
    "num = int(input(\"Which slot to insert o? (1 2 3 4 5 6 7 8 9):\"))\n",
    "\n",
    "if num == 1:\n",
    "    a = 'o'\n",
    "elif num == 2:\n",
    "    b = 'o'\n",
    "elif num == 3:\n",
    "    c = 'o'\n",
    "elif num == 4:\n",
    "    d = 'o'\n",
    "elif num == 5:\n",
    "    e = 'o'\n",
    "elif num == 6:\n",
    "    f = 'o'\n",
    "elif num == 7:\n",
    "    g = 'o'\n",
    "elif num == 8:\n",
    "    h = 'o'\n",
    "elif num == 9:\n",
    "    i = 'o'\n",
    "\n",
    "print(a+\" | \"+b+\" | \"+c)\n",
    "print(\"---------\")\n",
    "print(d+\" | \"+e+\" | \"+f)\n",
    "print(\"---------\")\n",
    "print(g+\" | \"+h+\" | \"+i)\n",
    "\n",
    "#get input to insert an \"x\" into the tic tac toe board\n",
    "num = int(input(\"Which slot to insert x? (1 2 3 4 5 6 7 8 9):\"))\n",
    "\n",
    "if num == 1:\n",
    "    a = 'x'\n",
    "elif num == 2:\n",
    "    b = 'x'\n",
    "elif num == 3:\n",
    "    c = 'x'\n",
    "elif num == 4:\n",
    "    d = 'x'\n",
    "elif num == 5:\n",
    "    e = 'x'\n",
    "elif num == 6:\n",
    "    f = 'x'\n",
    "elif num == 7:\n",
    "    g = 'x'\n",
    "elif num == 8:\n",
    "    h = 'x'\n",
    "elif num == 9:\n",
    "    i = 'x'\n",
    "\n",
    "print(a+\" | \"+b+\" | \"+c)\n",
    "print(\"---------\")\n",
    "print(d+\" | \"+e+\" | \"+f)\n",
    "print(\"---------\")\n",
    "print(g+\" | \"+h+\" | \"+i)\n",
    "\n",
    "#get input to insert an \"o\" into the tic tac toe board\n",
    "num = int(input(\"Which slot to insert o? (1 2 3 4 5 6 7 8 9):\"))\n",
    "\n",
    "if num == 1:\n",
    "    a = 'o'\n",
    "elif num == 2:\n",
    "    b = 'o'\n",
    "elif num == 3:\n",
    "    c = 'o'\n",
    "elif num == 4:\n",
    "    d = 'o'\n",
    "elif num == 5:\n",
    "    e = 'o'\n",
    "elif num == 6:\n",
    "    f = 'o'\n",
    "elif num == 7:\n",
    "    g = 'o'\n",
    "elif num == 8:\n",
    "    h = 'o'\n",
    "elif num == 9:\n",
    "    i = 'o'\n",
    "\n",
    "print(a+\" | \"+b+\" | \"+c)\n",
    "print(\"---------\")\n",
    "print(d+\" | \"+e+\" | \"+f)\n",
    "print(\"---------\")\n",
    "print(g+\" | \"+h+\" | \"+i)\n",
    "\n",
    "#get input to insert an \"x\" into the tic tac toe board\n",
    "num = int(input(\"Which slot to insert x? (1 2 3 4 5 6 7 8 9):\"))\n",
    "\n",
    "if num == 1:\n",
    "    a = 'x'\n",
    "elif num == 2:\n",
    "    b = 'x'\n",
    "elif num == 3:\n",
    "    c = 'x'\n",
    "elif num == 4:\n",
    "    d = 'x'\n",
    "elif num == 5:\n",
    "    e = 'x'\n",
    "elif num == 6:\n",
    "    f = 'x'\n",
    "elif num == 7:\n",
    "    g = 'x'\n",
    "elif num == 8:\n",
    "    h = 'x'\n",
    "elif num == 9:\n",
    "    i = 'x'\n",
    "\n",
    "print(a+\" | \"+b+\" | \"+c)\n",
    "print(\"---------\")\n",
    "print(d+\" | \"+e+\" | \"+f)\n",
    "print(\"---------\")\n",
    "print(g+\" | \"+h+\" | \"+i)"
   ]
  },
  {
   "cell_type": "code",
   "execution_count": null,
   "metadata": {},
   "outputs": [],
   "source": []
  }
 ],
 "metadata": {
  "kernelspec": {
   "display_name": "Python 3",
   "language": "python",
   "name": "python3"
  },
  "language_info": {
   "codemirror_mode": {
    "name": "ipython",
    "version": 3
   },
   "file_extension": ".py",
   "mimetype": "text/x-python",
   "name": "python",
   "nbconvert_exporter": "python",
   "pygments_lexer": "ipython3",
   "version": "3.7.8"
  }
 },
 "nbformat": 4,
 "nbformat_minor": 4
}
