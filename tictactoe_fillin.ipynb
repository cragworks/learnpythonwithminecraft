{
 "cells": [
  {
   "cell_type": "code",
   "execution_count": 3,
   "metadata": {
    "collapsed": false
   },
   "outputs": [
    {
     "name": "stdout",
     "output_type": "stream",
     "text": [
      "1 | 2 | 3\n",
      "---------\n",
      "4 | 5 | 6\n",
      "---------\n",
      "7 | 8 | 9\n"
     ]
    }
   ],
   "source": [
    "#print a tic-tac-toe board\n",
    "#exactly like this:\n",
    "\n",
    "# 1 | 2 | 3\n",
    "# ---------\n",
    "# 4 | 5 | 6\n",
    "# ---------\n",
    "# 7 | 8 | 9"
   ]
  },
  {
   "cell_type": "code",
   "execution_count": 3,
   "metadata": {
    "collapsed": true
   },
   "outputs": [],
   "source": [
    "#make a variable (string) for each slot in the board\n",
    "#initialize with the number it represents\n",
    "\n",
    "a = \"1\"\n",
    "b = \"2\"\n",
    "c = \"3\""
   ]
  },
  {
   "cell_type": "code",
   "execution_count": 10,
   "metadata": {
    "collapsed": false
   },
   "outputs": [
    {
     "name": "stdout",
     "output_type": "stream",
     "text": [
      "x | o | x\n",
      "---------\n",
      "4 | 5 | 6\n",
      "---------\n",
      "7 | 8 | 9\n"
     ]
    }
   ],
   "source": [
    "#print the variable onto the tic tac toe board\n",
    "\n",
    "print(a+\" | \"+b+\" | \"+c)"
   ]
  },
  {
   "cell_type": "code",
   "execution_count": 11,
   "metadata": {
    "collapsed": false
   },
   "outputs": [
    {
     "name": "stdin",
     "output_type": "stream",
     "text": [
      "Which slot to insert x? (1 2 3 4 5 6 7 8 9): 3\n"
     ]
    },
    {
     "name": "stdout",
     "output_type": "stream",
     "text": [
      "x | o | x\n",
      "---------\n",
      "4 | 5 | 6\n",
      "---------\n",
      "7 | 8 | 9\n"
     ]
    }
   ],
   "source": [
    "#get input to insert an \"x\" into the tic tac toe board"
   ]
  },
  {
   "cell_type": "code",
   "execution_count": 12,
   "metadata": {
    "collapsed": false
   },
   "outputs": [
    {
     "name": "stdin",
     "output_type": "stream",
     "text": [
      "Which slot to insert o? (1 2 3 4 5 6 7 8 9): 4\n"
     ]
    },
    {
     "name": "stdout",
     "output_type": "stream",
     "text": [
      "x | o | x\n",
      "---------\n",
      "o | 5 | 6\n",
      "---------\n",
      "7 | 8 | 9\n"
     ]
    }
   ],
   "source": [
    "#get input to insert an \"o\" into the tic tac toe board"
   ]
  },
  {
   "cell_type": "code",
   "execution_count": 1,
   "metadata": {
    "collapsed": false
   },
   "outputs": [
    {
     "name": "stdout",
     "output_type": "stream",
     "text": [
      "1 | 2 | 3\n",
      "---------\n",
      "4 | 5 | 6\n",
      "---------\n",
      "7 | 8 | 9\n"
     ]
    },
    {
     "name": "stdin",
     "output_type": "stream",
     "text": [
      "Which slot to insert x? (1 2 3 4 5 6 7 8 9): 5\n"
     ]
    },
    {
     "name": "stdout",
     "output_type": "stream",
     "text": [
      "1 | 2 | 3\n",
      "---------\n",
      "4 | x | 6\n",
      "---------\n",
      "7 | 8 | 9\n"
     ]
    },
    {
     "name": "stdin",
     "output_type": "stream",
     "text": [
      "Which slot to insert o? (1 2 3 4 5 6 7 8 9): 1\n"
     ]
    },
    {
     "name": "stdout",
     "output_type": "stream",
     "text": [
      "o | 2 | 3\n",
      "---------\n",
      "4 | x | 6\n",
      "---------\n",
      "7 | 8 | 9\n"
     ]
    },
    {
     "name": "stdin",
     "output_type": "stream",
     "text": [
      "Which slot to insert x? (1 2 3 4 5 6 7 8 9): 6\n"
     ]
    },
    {
     "name": "stdout",
     "output_type": "stream",
     "text": [
      "o | 2 | 3\n",
      "---------\n",
      "4 | x | x\n",
      "---------\n",
      "7 | 8 | 9\n"
     ]
    },
    {
     "name": "stdin",
     "output_type": "stream",
     "text": [
      "Which slot to insert o? (1 2 3 4 5 6 7 8 9): 2\n"
     ]
    },
    {
     "name": "stdout",
     "output_type": "stream",
     "text": [
      "o | o | 3\n",
      "---------\n",
      "4 | x | x\n",
      "---------\n",
      "7 | 8 | 9\n"
     ]
    },
    {
     "name": "stdin",
     "output_type": "stream",
     "text": [
      "Which slot to insert x? (1 2 3 4 5 6 7 8 9): 4\n"
     ]
    },
    {
     "name": "stdout",
     "output_type": "stream",
     "text": [
      "o | o | 3\n",
      "---------\n",
      "x | x | x\n",
      "---------\n",
      "7 | 8 | 9\n"
     ]
    },
    {
     "name": "stdin",
     "output_type": "stream",
     "text": [
      "Which slot to insert o? (1 2 3 4 5 6 7 8 9): 3\n"
     ]
    },
    {
     "name": "stdout",
     "output_type": "stream",
     "text": [
      "o | o | o\n",
      "---------\n",
      "x | x | x\n",
      "---------\n",
      "7 | 8 | 9\n"
     ]
    },
    {
     "name": "stdin",
     "output_type": "stream",
     "text": [
      "Which slot to insert x? (1 2 3 4 5 6 7 8 9): 7\n"
     ]
    },
    {
     "name": "stdout",
     "output_type": "stream",
     "text": [
      "o | o | o\n",
      "---------\n",
      "x | x | x\n",
      "---------\n",
      "x | 8 | 9\n"
     ]
    },
    {
     "name": "stdin",
     "output_type": "stream",
     "text": [
      "Which slot to insert o? (1 2 3 4 5 6 7 8 9): 8\n"
     ]
    },
    {
     "name": "stdout",
     "output_type": "stream",
     "text": [
      "o | o | o\n",
      "---------\n",
      "x | x | x\n",
      "---------\n",
      "x | o | 9\n"
     ]
    },
    {
     "name": "stdin",
     "output_type": "stream",
     "text": [
      "Which slot to insert x? (1 2 3 4 5 6 7 8 9): 9\n"
     ]
    },
    {
     "name": "stdout",
     "output_type": "stream",
     "text": [
      "o | o | o\n",
      "---------\n",
      "x | x | x\n",
      "---------\n",
      "x | o | x\n"
     ]
    }
   ],
   "source": [
    "#put the above code togethert an \"o\" into the tic tac toe board"
   ]
  },
  {
   "cell_type": "code",
   "execution_count": null,
   "metadata": {
    "collapsed": true
   },
   "outputs": [],
   "source": []
  }
 ],
 "metadata": {
  "anaconda-cloud": {},
  "kernelspec": {
   "display_name": "Python [default]",
   "language": "python",
   "name": "python3"
  },
  "language_info": {
   "codemirror_mode": {
    "name": "ipython",
    "version": 3
   },
   "file_extension": ".py",
   "mimetype": "text/x-python",
   "name": "python",
   "nbconvert_exporter": "python",
   "pygments_lexer": "ipython3",
   "version": "3.5.2"
  }
 },
 "nbformat": 4,
 "nbformat_minor": 4
}
