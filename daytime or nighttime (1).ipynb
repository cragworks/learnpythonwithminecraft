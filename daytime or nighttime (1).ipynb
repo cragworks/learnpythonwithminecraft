{
 "cells": [
  {
   "cell_type": "code",
   "execution_count": null,
   "metadata": {},
   "outputs": [],
   "source": [
    "#ask the user what hour it is and then tell the user if it is \"daytime\" or \"nighttime\"\n",
    "#daytime is between 6am and 6pm (6-18)\n",
    "#nighttime is between 6pm and 6am (0-6 and 18-24)\n",
    "\n",
    "#example:\n",
    "# What is the current hour (0-24): 12\n",
    "# It is daytime\n",
    "\n",
    "#What is the current hour (0-24): 5\n",
    "# It is nighttime\n"
   ]
  }
 ],
 "metadata": {
  "kernelspec": {
   "display_name": "Python 3",
   "language": "python",
   "name": "python3"
  },
  "language_info": {
   "codemirror_mode": {
    "name": "ipython",
    "version": 3
   },
   "file_extension": ".py",
   "mimetype": "text/x-python",
   "name": "python",
   "nbconvert_exporter": "python",
   "pygments_lexer": "ipython3",
   "version": "3.7.8"
  }
 },
 "nbformat": 4,
 "nbformat_minor": 4
}
